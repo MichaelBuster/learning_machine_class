{
  "cells": [
    {
      "cell_type": "markdown",
      "metadata": {
        "id": "view-in-github",
        "colab_type": "text"
      },
      "source": [
        "<a href=\"https://colab.research.google.com/github/MichaelBuster/learning_machine_class/blob/main/Copy_of_knn_manually_for_students_(1).ipynb\" target=\"_parent\"><img src=\"https://colab.research.google.com/assets/colab-badge.svg\" alt=\"Open In Colab\"/></a>"
      ]
    },
    {
      "cell_type": "code",
      "execution_count": 1,
      "id": "71cd4705-8073-4834-b270-eb094ad2dde0",
      "metadata": {
        "id": "71cd4705-8073-4834-b270-eb094ad2dde0"
      },
      "outputs": [],
      "source": [
        "import numpy as np\n",
        "import matplotlib.pyplot as plt\n",
        "import pandas as pd"
      ]
    },
    {
      "cell_type": "code",
      "execution_count": 2,
      "id": "f2c92f9d-5de5-43ab-bd11-1f1fa25c591f",
      "metadata": {
        "id": "f2c92f9d-5de5-43ab-bd11-1f1fa25c591f",
        "outputId": "d3efb83f-c229-48fc-cbad-649806c531fc",
        "colab": {
          "base_uri": "https://localhost:8080/"
        }
      },
      "outputs": [
        {
          "output_type": "execute_result",
          "data": {
            "text/plain": [
              "[[7, 7, -1], [7, 4, -1], [3, 4, -2], [1, 4, -2]]"
            ]
          },
          "metadata": {},
          "execution_count": 2
        }
      ],
      "source": [
        "my_dots=[[7,7,-1],[7,4,-1],[3,4,-2],[1,4,-2]]\n",
        "my_dots"
      ]
    },
    {
      "cell_type": "code",
      "execution_count": 3,
      "id": "aac832ef-7102-4bac-98ca-3f21a6d4b9bd",
      "metadata": {
        "id": "aac832ef-7102-4bac-98ca-3f21a6d4b9bd"
      },
      "outputs": [],
      "source": [
        "my_candidate=[[4,10]]"
      ]
    },
    {
      "cell_type": "code",
      "execution_count": 4,
      "id": "ace7abc6-6ca5-4df5-a770-b317b512a199",
      "metadata": {
        "id": "ace7abc6-6ca5-4df5-a770-b317b512a199",
        "outputId": "e797e8f3-dac9-4488-b22f-acab4b6e6b2a",
        "colab": {
          "base_uri": "https://localhost:8080/",
          "height": 406
        }
      },
      "outputs": [
        {
          "output_type": "display_data",
          "data": {
            "text/plain": [
              "<Figure size 640x480 with 1 Axes>"
            ],
            "image/png": "[encoded data removed]"
          },
          "metadata": {}
        }
      ],
      "source": [
        "import numpy as np\n",
        "import matplotlib.pyplot as plt\n",
        "ax = plt.gca()\n",
        "ax.spines['left'].set_position('zero')\n",
        "ax.spines['right'].set_color('none')\n",
        "ax.spines['bottom'].set_position('zero')\n",
        "ax.spines['top'].set_color('none')\n",
        "plt.xlim([-1, 11])\n",
        "plt.ylim([-1, 11])\n",
        "plt.grid()\n",
        "bads = np.array([7,7])\n",
        "goods=np.array([3,1])\n",
        "y_bads = np.array([7,4])\n",
        "y_goods= np.array([4,4])\n",
        "plt.scatter(goods, y_goods, color = \"g\", marker = \"o\", s = 40)\n",
        "plt.scatter(bads, y_bads, color = \"r\", marker = \"o\", s = 40)\n",
        "plt.scatter(my_candidate[0][0], my_candidate[0][1], color = \"b\", marker = \"o\", s = 40)\n",
        "plt.show()"
      ]
    },
    {
      "cell_type": "code",
      "execution_count": 5,
      "id": "ab49d485-f6d1-42a1-b79d-16227879e1a7",
      "metadata": {
        "id": "ab49d485-f6d1-42a1-b79d-16227879e1a7",
        "outputId": "80b2c521-c4ac-4392-d2af-3f32fb34f832",
        "colab": {
          "base_uri": "https://localhost:8080/"
        }
      },
      "outputs": [
        {
          "output_type": "execute_result",
          "data": {
            "text/plain": [
              "array([[0, 0],\n",
              "       [0, 0],\n",
              "       [0, 0],\n",
              "       [0, 0]])"
            ]
          },
          "metadata": {},
          "execution_count": 5
        }
      ],
      "source": [
        "my_sqr_dist=np.array([[0,0],[0,0],[0,0],[0,0]])\n",
        "my_sqr_dist"
      ]
    },
    {
      "cell_type": "code",
      "execution_count": 6,
      "id": "f0b01d11-b2a1-47b9-bee0-e6e8709bf0fb",
      "metadata": {
        "id": "f0b01d11-b2a1-47b9-bee0-e6e8709bf0fb",
        "outputId": "17fb81ca-1ee1-4835-e9a2-a9a06cc462b7",
        "colab": {
          "base_uri": "https://localhost:8080/"
        }
      },
      "outputs": [
        {
          "output_type": "execute_result",
          "data": {
            "text/plain": [
              "array([[18, -1],\n",
              "       [45, -1],\n",
              "       [37, -2],\n",
              "       [45, -2]])"
            ]
          },
          "metadata": {},
          "execution_count": 6
        }
      ],
      "source": [
        "# fill in- how to put in this array real distances between candidate and each dot+save the class of the original dot\n",
        "for i in range(len(my_dots)):\n",
        "    # Calculate the squared Euclidean distance\n",
        "    dist_sq = (my_candidate[0][0] - my_dots[i][0])**2 + (my_candidate[0][1] - my_dots[i][1])**2\n",
        "\n",
        "    # Store the squared distance and the class in my_sqr_dist\n",
        "    my_sqr_dist[i][0] = dist_sq\n",
        "    my_sqr_dist[i][1] = my_dots[i][2]\n",
        "\n",
        "my_sqr_dist\n"
      ]
    },
    {
      "cell_type": "code",
      "execution_count": 7,
      "id": "e3e956ae-2bba-48e8-8624-0fa2d203e587",
      "metadata": {
        "id": "e3e956ae-2bba-48e8-8624-0fa2d203e587",
        "colab": {
          "base_uri": "https://localhost:8080/"
        },
        "outputId": "afcefdf2-0351-452b-d086-400676f19f51"
      },
      "outputs": [
        {
          "output_type": "stream",
          "name": "stdout",
          "text": [
            "[[18 -1]\n",
            " [37 -2]\n",
            " [45 -1]\n",
            " [45 -2]]\n"
          ]
        }
      ],
      "source": [
        "#fill in- how to get the array to be soreted so nearest neibours to be on top?\n",
        "# Get the indices that would sort the array by the first column (squared distance)\n",
        "sorted_indices = np.argsort(my_sqr_dist[:, 0])\n",
        "\n",
        "# Use the sorted indices to create a new sorted array\n",
        "sortedArr = my_sqr_dist[sorted_indices]\n",
        "\n",
        "print(sortedArr)"
      ]
    },
    {
      "cell_type": "code",
      "execution_count": 8,
      "id": "f2b4bbc2-c03f-4dd0-bbf3-2fcaab9f1f51",
      "metadata": {
        "id": "f2b4bbc2-c03f-4dd0-bbf3-2fcaab9f1f51"
      },
      "outputs": [],
      "source": [
        "my_bad=0\n",
        "my_good=0\n",
        "\n",
        "for i in range(3):\n",
        "    if (sortedArr[i][1]==-1):\n",
        "        my_bad=my_bad+1\n",
        "    else:\n",
        "        my_good=my_good+1\n",
        "\n",
        "\n",
        "\n",
        "\n"
      ]
    },
    {
      "cell_type": "code",
      "execution_count": 9,
      "id": "439c22ec-ac80-48a1-b96d-d050ac1adf91",
      "metadata": {
        "id": "439c22ec-ac80-48a1-b96d-d050ac1adf91",
        "outputId": "9a481da8-2780-4f4a-d2c1-198bb2d8712b",
        "colab": {
          "base_uri": "https://localhost:8080/"
        }
      },
      "outputs": [
        {
          "output_type": "stream",
          "name": "stdout",
          "text": [
            "class is class bad\n"
          ]
        }
      ],
      "source": [
        "if (my_good>my_bad):\n",
        "    print (\"class is class good\")\n",
        "    my_color=\"g\"\n",
        "else:\n",
        "    print (\"class is class bad\")\n",
        "    my_color=\"r\""
      ]
    },
    {
      "cell_type": "code",
      "execution_count": 10,
      "id": "44f82208-4cf3-4624-be41-897c5641878c",
      "metadata": {
        "id": "44f82208-4cf3-4624-be41-897c5641878c",
        "outputId": "2e6b9642-dd00-463b-f586-9bd2ff04cf2d",
        "colab": {
          "base_uri": "https://localhost:8080/",
          "height": 406
        }
      },
      "outputs": [
        {
          "output_type": "display_data",
          "data": {
            "text/plain": [
              "<Figure size 640x480 with 1 Axes>"
            ],
            "image/png": "[encoded data removed]"
          },
          "metadata": {}
        }
      ],
      "source": [
        "import numpy as np\n",
        "import matplotlib.pyplot as plt\n",
        "ax = plt.gca()\n",
        "ax.spines['left'].set_position('zero')\n",
        "ax.spines['right'].set_color('none')\n",
        "ax.spines['bottom'].set_position('zero')\n",
        "ax.spines['top'].set_color('none')\n",
        "plt.xlim([-1, 11])\n",
        "plt.ylim([-1, 11])\n",
        "plt.grid()\n",
        "bads = np.array([7,7])\n",
        "goods=np.array([3,1])\n",
        "y_bads = np.array([7,4])\n",
        "y_goods= np.array([4,4])\n",
        "plt.scatter(goods, y_goods, color = \"g\", marker = \"o\", s = 40)\n",
        "plt.scatter(bads, y_bads, color = \"r\", marker = \"o\", s = 40)\n",
        "plt.scatter(my_candidate[0][0], my_candidate[0][1], color = my_color, marker = \"o\", s = 40)\n",
        "plt.show()"
      ]
    }
  ],
  "metadata": {
    "kernelspec": {
      "display_name": "Python 3 (ipykernel)",
      "language": "python",
      "name": "python3"
    },
    "language_info": {
      "codemirror_mode": {
        "name": "ipython",
        "version": 3
      },
      "file_extension": ".py",
      "mimetype": "text/x-python",
      "name": "python",
      "nbconvert_exporter": "python",
      "pygments_lexer": "ipython3",
      "version": "3.9.7"
    },
    "colab": {
      "provenance": [],
      "include_colab_link": true
    }
  },
  "nbformat": 4,
  "nbformat_minor": 5
}